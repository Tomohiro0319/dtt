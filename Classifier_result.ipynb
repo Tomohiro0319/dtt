{
 "cells": [
  {
   "cell_type": "code",
   "execution_count": 1,
   "metadata": {},
   "outputs": [],
   "source": [
    "# 途中で使用するため、あらかじめ読み込んでおいてください。\n",
    "# データ加工・処理・分析モジュール\n",
    "import numpy as np\n",
    "import numpy.random as random\n",
    "import scipy as sp\n",
    "from pandas import Series, DataFrame\n",
    "import pandas as pd\n",
    "\n",
    "# 可視化モジュール\n",
    "import matplotlib.pyplot as plt\n",
    "import matplotlib as mpl\n",
    "import seaborn as sns\n",
    "%matplotlib inline\n",
    "\n",
    "# 機械学習モジュール\n",
    "import sklearn\n",
    "\n",
    "# 小数第３まで表示\n",
    "%precision 3\n",
    "\n",
    "#混同行列\n",
    "from sklearn.metrics import confusion_matrix"
   ]
  },
  {
   "cell_type": "code",
   "execution_count": 6,
   "metadata": {},
   "outputs": [
    {
     "name": "stdout",
     "output_type": "stream",
     "text": [
      "C:\\Users\\andot\\Downloads\\pythonコード\n",
      "D:\\\n"
     ]
    }
   ],
   "source": [
    "import os \n",
    "print(os.getcwd())#ディレクトリの確認\n",
    "os.chdir(\"D:\")# ディレクトリの移動\n",
    "print(os.getcwd())#ディレクトリの確認"
   ]
  },
  {
   "cell_type": "code",
   "execution_count": 8,
   "metadata": {},
   "outputs": [
    {
     "name": "stdout",
     "output_type": "stream",
     "text": [
      "<class 'pandas.core.frame.DataFrame'>\n",
      "RangeIndex: 1068062 entries, 0 to 1068061\n",
      "Data columns (total 57 columns):\n",
      "Unnamed: 0               1068062 non-null int64\n",
      "profile_passport         1068062 non-null int64\n",
      "dist_scale               1068062 non-null int64\n",
      "id_bizday                1068062 non-null int64\n",
      "STATUSTIME_e_day_2.0     1068062 non-null int64\n",
      "STATUSTIME_e_day_3.0     1068062 non-null int64\n",
      "STATUSTIME_e_day_4.0     1068062 non-null int64\n",
      "STATUSTIME_e_day_5.0     1068062 non-null int64\n",
      "STATUSTIME_e_day_6.0     1068062 non-null int64\n",
      "STATUSTIME_e_day_7.0     1068062 non-null int64\n",
      "STATUSTIME_e_day_8.0     1068062 non-null int64\n",
      "STATUSTIME_e_day_9.0     1068062 non-null int64\n",
      "STATUSTIME_e_day_10.0    1068062 non-null int64\n",
      "STATUSTIME_e_day_11.0    1068062 non-null int64\n",
      "STATUSTIME_e_day_12.0    1068062 non-null int64\n",
      "STATUSTIME_e_day_13.0    1068062 non-null int64\n",
      "STATUSTIME_e_day_14.0    1068062 non-null int64\n",
      "STATUSTIME_e_day_15.0    1068062 non-null int64\n",
      "STATUSTIME_e_day_16.0    1068062 non-null int64\n",
      "STATUSTIME_e_day_17.0    1068062 non-null int64\n",
      "STATUSTIME_e_day_18.0    1068062 non-null int64\n",
      "STATUSTIME_e_day_19.0    1068062 non-null int64\n",
      "STATUSTIME_e_day_20.0    1068062 non-null int64\n",
      "STATUSTIME_e_day_21.0    1068062 non-null int64\n",
      "STATUSTIME_e_day_22.0    1068062 non-null int64\n",
      "STATUSTIME_e_day_23.0    1068062 non-null int64\n",
      "STATUSTIME_e_day_24.0    1068062 non-null int64\n",
      "STATUSTIME_e_day_25.0    1068062 non-null int64\n",
      "STATUSTIME_e_day_26.0    1068062 non-null int64\n",
      "STATUSTIME_e_day_27.0    1068062 non-null int64\n",
      "STATUSTIME_e_day_28.0    1068062 non-null int64\n",
      "STATUSTIME_e_day_29.0    1068062 non-null int64\n",
      "STATUSTIME_e_day_30.0    1068062 non-null int64\n",
      "STATUSTIME_e_day_31.0    1068062 non-null int64\n",
      "STATUSTIME_e_hour_1      1068062 non-null int64\n",
      "STATUSTIME_e_hour_2      1068062 non-null int64\n",
      "STATUSTIME_e_hour_3      1068062 non-null int64\n",
      "STATUSTIME_e_hour_4      1068062 non-null int64\n",
      "STATUSTIME_e_hour_5      1068062 non-null int64\n",
      "STATUSTIME_e_hour_6      1068062 non-null int64\n",
      "STATUSTIME_e_hour_7      1068062 non-null int64\n",
      "STATUSTIME_e_hour_8      1068062 non-null int64\n",
      "STATUSTIME_e_hour_9      1068062 non-null int64\n",
      "STATUSTIME_e_hour_10     1068062 non-null int64\n",
      "STATUSTIME_e_hour_11     1068062 non-null int64\n",
      "STATUSTIME_e_hour_12     1068062 non-null int64\n",
      "STATUSTIME_e_hour_13     1068062 non-null int64\n",
      "STATUSTIME_e_hour_14     1068062 non-null int64\n",
      "STATUSTIME_e_hour_15     1068062 non-null int64\n",
      "STATUSTIME_e_hour_16     1068062 non-null int64\n",
      "STATUSTIME_e_hour_17     1068062 non-null int64\n",
      "STATUSTIME_e_hour_18     1068062 non-null int64\n",
      "STATUSTIME_e_hour_19     1068062 non-null int64\n",
      "STATUSTIME_e_hour_20     1068062 non-null int64\n",
      "STATUSTIME_e_hour_21     1068062 non-null int64\n",
      "STATUSTIME_e_hour_22     1068062 non-null int64\n",
      "STATUSTIME_e_hour_23     1068062 non-null int64\n",
      "dtypes: int64(57)\n",
      "memory usage: 464.5 MB\n",
      "None\n",
      "   Unnamed: 0  profile_passport  dist_scale  id_bizday  STATUSTIME_e_day_2.0  \\\n",
      "0           0                 0           1          1                     0   \n",
      "1           1                 0           0          1                     0   \n",
      "2           2                 0           0          1                     0   \n",
      "3           3                 0           0          1                     0   \n",
      "4           4                 0           0          1                     0   \n",
      "\n",
      "   STATUSTIME_e_day_3.0  STATUSTIME_e_day_4.0  STATUSTIME_e_day_5.0  \\\n",
      "0                     0                     0                     0   \n",
      "1                     0                     0                     0   \n",
      "2                     0                     0                     0   \n",
      "3                     0                     0                     0   \n",
      "4                     0                     0                     0   \n",
      "\n",
      "   STATUSTIME_e_day_6.0  STATUSTIME_e_day_7.0  ...  STATUSTIME_e_hour_14  \\\n",
      "0                     0                     0  ...                     0   \n",
      "1                     0                     0  ...                     0   \n",
      "2                     0                     0  ...                     0   \n",
      "3                     0                     0  ...                     0   \n",
      "4                     0                     0  ...                     0   \n",
      "\n",
      "   STATUSTIME_e_hour_15  STATUSTIME_e_hour_16  STATUSTIME_e_hour_17  \\\n",
      "0                     0                     0                     0   \n",
      "1                     0                     0                     0   \n",
      "2                     0                     0                     0   \n",
      "3                     0                     0                     0   \n",
      "4                     0                     0                     0   \n",
      "\n",
      "   STATUSTIME_e_hour_18  STATUSTIME_e_hour_19  STATUSTIME_e_hour_20  \\\n",
      "0                     0                     0                     0   \n",
      "1                     0                     0                     0   \n",
      "2                     0                     0                     0   \n",
      "3                     0                     0                     0   \n",
      "4                     0                     0                     0   \n",
      "\n",
      "   STATUSTIME_e_hour_21  STATUSTIME_e_hour_22  STATUSTIME_e_hour_23  \n",
      "0                     0                     0                     0  \n",
      "1                     0                     0                     0  \n",
      "2                     0                     0                     0  \n",
      "3                     0                     0                     0  \n",
      "4                     0                     0                     0  \n",
      "\n",
      "[5 rows x 57 columns]\n"
     ]
    }
   ],
   "source": [
    "taxi_da = pd.read_csv(\"bunsekiyo_data_dummied2.csv\")\n",
    "print(taxi_da.info())\n",
    "print(taxi_da.head())"
   ]
  },
  {
   "cell_type": "code",
   "execution_count": 13,
   "metadata": {},
   "outputs": [
    {
     "name": "stderr",
     "output_type": "stream",
     "text": [
      "C:\\Users\\andot\\Anaconda3\\lib\\site-packages\\sklearn\\linear_model\\logistic.py:432: FutureWarning: Default solver will be changed to 'lbfgs' in 0.22. Specify a solver to silence this warning.\n",
      "  FutureWarning)\n",
      "C:\\Users\\andot\\Anaconda3\\lib\\site-packages\\sklearn\\linear_model\\logistic.py:469: FutureWarning: Default multi_class will be changed to 'auto' in 0.22. Specify the multi_class option to silence this warning.\n",
      "  \"this warning.\", FutureWarning)\n"
     ]
    },
    {
     "name": "stdout",
     "output_type": "stream",
     "text": [
      "train: 0.371349179981274\n",
      "test: 0.37673280782821417\n"
     ]
    }
   ],
   "source": [
    "# ロジスティック回帰\n",
    "from sklearn.linear_model import LogisticRegression\n",
    "from sklearn.model_selection import train_test_split\n",
    "\n",
    "# 標準化のためのモジュール\n",
    "from sklearn.preprocessing import StandardScaler\n",
    "\n",
    "# 説明変数と目的変数\n",
    "X = taxi_da[[\"mesh_code\",\"D_45\",\"D_90\",\"D_135\",\"D_180\",\"D_225\",\"D_270\",\"D_315\",\"D_360\",\"hour\"]]\n",
    "Y = taxi_da['dist_scale']\n",
    "\n",
    "# 学習データとテストデータに分ける\n",
    "X_train, X_test, y_train, y_test = train_test_split(X,Y,random_state=0,test_size=0.1)\n",
    "\n",
    "# ロジスティック回帰\n",
    "model = LogisticRegression(class_weight='balaced')\n",
    "\n",
    "# 標準化\n",
    "sc = StandardScaler()\n",
    "sc.fit(X_train)\n",
    "X_train_std = sc.transform(X_train)\n",
    "X_test_std = sc.transform(X_test)\n",
    "\n",
    "clf = model.fit(X_train_std,y_train)\n",
    "print(\"train:\",clf.score(X_train_std,y_train))\n",
    "print(\"test:\", clf.score(X_test_std,y_test))"
   ]
  },
  {
   "cell_type": "code",
   "execution_count": 14,
   "metadata": {},
   "outputs": [
    {
     "name": "stdout",
     "output_type": "stream",
     "text": [
      "train: DecisionTreeClassifier 0.4098281434051164\n",
      "test: DecisionTreeClassifier 0.4188638216906768\n"
     ]
    }
   ],
   "source": [
    "from sklearn import tree\n",
    "from sklearn.tree import  DecisionTreeClassifier\n",
    "\n",
    "# 決定木インスタンス（エントロピー、深さ5）\n",
    "tree_model = DecisionTreeClassifier(criterion='entropy',max_depth=5, random_state=50)\n",
    "\n",
    "tree_model.fit(X_train,y_train)\n",
    "\n",
    "print(\"train:\",tree_model.__class__.__name__ ,tree_model.score(X_train,y_train))\n",
    "print(\"test:\",tree_model.__class__.__name__ , tree_model.score(X_test,y_test))"
   ]
  },
  {
   "cell_type": "code",
   "execution_count": 16,
   "metadata": {},
   "outputs": [
    {
     "data": {
      "text/plain": [
       "<matplotlib.legend.Legend at 0x226516b64c8>"
      ]
     },
     "execution_count": 16,
     "metadata": {},
     "output_type": "execute_result"
    },
    {
     "data": {
      "image/png": "[encoded data removed]",
      "text/plain": [
       "<Figure size 432x288 with 1 Axes>"
      ]
     },
     "metadata": {
      "needs_background": "light"
     },
     "output_type": "display_data"
    }
   ],
   "source": [
    "from sklearn.neighbors import  KNeighborsClassifier#K-NN\n",
    "\n",
    "training_accuracy = []\n",
    "test_accuracy =[]\n",
    "\n",
    "neighbors_settings = range(1,21)\n",
    "for n_neighbors in neighbors_settings:\n",
    "    clf = KNeighborsClassifier(n_neighbors=n_neighbors)\n",
    "    clf.fit(X_train,y_train)\n",
    "    \n",
    "    training_accuracy.append(clf.score(X_train, y_train))\n",
    "    \n",
    "    test_accuracy.append(clf.score(X_test, y_test))\n",
    "    \n",
    "plt.plot(neighbors_settings, training_accuracy, label=\"training accuracy\")\n",
    "plt.plot(neighbors_settings, test_accuracy, label=\"test accuracy\")\n",
    "plt.ylabel(\"Accuracy\")\n",
    "plt.xlabel(\"n_neighbors\")\n",
    "plt.legend()"
   ]
  },
  {
   "cell_type": "code",
   "execution_count": 15,
   "metadata": {},
   "outputs": [
    {
     "name": "stdout",
     "output_type": "stream",
     "text": [
      "train: KNeighborsClassifier 0.507716934972364\n",
      "test: KNeighborsClassifier 0.4291927154117967\n",
      "Confution matrix:\n",
      "[[593 362 239]\n",
      " [466 421 319]\n",
      " [378 336 565]]\n"
     ]
    }
   ],
   "source": [
    "#K-NN n_neighbers=20\n",
    "clf = KNeighborsClassifier(n_neighbors=20)\n",
    "clf.fit(X_train,y_train)\n",
    "print(\"train:\",clf.__class__.__name__ ,clf.score(X_train,y_train))\n",
    "print(\"test:\",clf.__class__.__name__ , clf.score(X_test,y_test))\n",
    "\n",
    "pred_svc = clf.predict(X_test)\n",
    "confusion_m = confusion_matrix(y_test,pred_svc)\n",
    "print(\"Confution matrix:\\n{}\".format(confusion_m))\n",
    "#9197\n",
    "#3679  2407"
   ]
  },
  {
   "cell_type": "code",
   "execution_count": 11,
   "metadata": {},
   "outputs": [
    {
     "name": "stderr",
     "output_type": "stream",
     "text": [
      "C:\\Users\\andot\\Anaconda3\\lib\\site-packages\\sklearn\\svm\\base.py:929: ConvergenceWarning: Liblinear failed to converge, increase the number of iterations.\n",
      "  \"the number of iterations.\", ConvergenceWarning)\n"
     ]
    },
    {
     "name": "stdout",
     "output_type": "stream",
     "text": [
      "train: LinearSVC 0.3729477003370664\n",
      "test: LinearSVC 0.366206371642927\n",
      "Confution matrix:\n",
      "[[1349  486 1180]\n",
      " [1342  489 1256]\n",
      " [1170  395 1530]]\n"
     ]
    }
   ],
   "source": [
    "# SVM(標準化)\n",
    "from sklearn.metrics import confusion_matrix\n",
    "from sklearn.svm import LinearSVC\n",
    "model = LinearSVC()\n",
    "clf = model.fit(X_train_std,y_train)\n",
    "print(\"train:\",clf.__class__.__name__ ,clf.score(X_train_std,y_train))\n",
    "print(\"test:\",clf.__class__.__name__ , clf.score(X_test_std,y_test))\n",
    "\n",
    "\n",
    "\n",
    "pred_svc = clf.predict(X_test_std)\n",
    "\n",
    "confusion_m = confusion_matrix(y_test,pred_svc)\n",
    "print(\"Confution matrix:\\n{}\".format(confusion_m))"
   ]
  },
  {
   "cell_type": "code",
   "execution_count": 10,
   "metadata": {},
   "outputs": [
    {
     "name": "stderr",
     "output_type": "stream",
     "text": [
      "C:\\Users\\andot\\Anaconda3\\lib\\site-packages\\sklearn\\ensemble\\forest.py:245: FutureWarning: The default value of n_estimators will change from 10 in version 0.20 to 100 in 0.22.\n",
      "  \"10 in version 0.20 to 100 in 0.22.\", FutureWarning)\n"
     ]
    },
    {
     "name": "stdout",
     "output_type": "stream",
     "text": [
      "train: RandomForestClassifier 0.6672103222065167\n",
      "test: RandomForestClassifier 0.3970860063064043\n"
     ]
    }
   ],
   "source": [
    "#ランダムフォレスト\n",
    "from sklearn.ensemble import RandomForestClassifier\n",
    "model = RandomForestClassifier()\n",
    "clf = model.fit(X_train,y_train)\n",
    "print(\"train:\",clf.__class__.__name__ ,clf.score(X_train,y_train))\n",
    "print(\"test:\",clf.__class__.__name__ , clf.score(X_test,y_test))"
   ]
  }
 ],
 "metadata": {
  "kernelspec": {
   "display_name": "Python 3",
   "language": "python",
   "name": "python3"
  },
  "language_info": {
   "codemirror_mode": {
    "name": "ipython",
    "version": 3
   },
   "file_extension": ".py",
   "mimetype": "text/x-python",
   "name": "python",
   "nbconvert_exporter": "python",
   "pygments_lexer": "ipython3",
   "version": "3.7.4"
  }
 },
 "nbformat": 4,
 "nbformat_minor": 2
}
